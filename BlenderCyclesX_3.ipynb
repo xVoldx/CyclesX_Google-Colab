{
  "nbformat": 4,
  "nbformat_minor": 0,
  "metadata": {
    "colab": {
      "name": "BlenderCyclesX_3",
      "private_outputs": true,
      "provenance": [],
      "collapsed_sections": []
    },
    "kernelspec": {
      "name": "python3",
      "display_name": "Python 3"
    },
    "accelerator": "GPU"
  },
  "cells": [
    {
      "cell_type": "code",
      "metadata": {
        "id": "y72eBIMRlOe9"
      },
      "source": [
        "#Connect Google Drive\n",
        "from google.colab import drive\n",
        "drive.mount('/gdrive')"
      ],
      "execution_count": null,
      "outputs": []
    },
    {
      "cell_type": "code",
      "metadata": {
        "id": "sj8s2SFnlI3u"
      },
      "source": [
        "!wget -c https://builder.blender.org/download/experimental/blender-3.0.0-alpha+cycles-x.2ee513621513-linux.x86_64-release.tar.xz\n"
      ],
      "execution_count": null,
      "outputs": []
    },
    {
      "cell_type": "code",
      "metadata": {
        "id": "zVvvjryuZJei"
      },
      "source": [
        "!ls\n",
        "!tar xf blender-3.0.0-alpha+cycles-x.2ee513621513-linux.x86_64-release.tar.xz"
      ],
      "execution_count": null,
      "outputs": []
    },
    {
      "cell_type": "code",
      "metadata": {
        "id": "0kUypTxtlUQM"
      },
      "source": [
        "#Set Paths to Blender Files\n",
        "filename = '/gdrive/MyDrive/CyclesXTest/classroom/classroom.blend'"
      ],
      "execution_count": null,
      "outputs": []
    },
    {
      "cell_type": "code",
      "metadata": {
        "id": "I2hRSvuNlWu8"
      },
      "source": [
        "#Run Blender\n",
        "###########\n",
        "\n",
        "#Render a Still Frame\n",
        "!sudo ./blender-3.0.0-alpha+cycles-x.2ee513621513-linux.x86_64-release/blender -b $filename -noaudio -E 'CYCLES' -o '/gdrive/MyDrive/classroom_b2.png' -f 1 -F 'PNG' -- --cycles-device OPTIX\n",
        "\n",
        "#Render an Animation\n",
        "!sudo ./blender-3.0.0-alpha+cycles-x.2ee513621513-linux.x86_64-release/blender -b $filename -noaudio -E 'CYCLES' -o '/gdrive/MyDrive/image_####' -s 8 -e 250 -a -- --cycles-device OPTIX"
      ],
      "execution_count": null,
      "outputs": []
    }
  ]
}