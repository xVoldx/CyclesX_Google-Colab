{
  "nbformat": 4,
  "nbformat_minor": 0,
  "metadata": {
    "colab": {
      "name": "BlenderCyclesX_Tutorial3",
      "private_outputs": true,
      "provenance": [],
      "collapsed_sections": []
    },
    "kernelspec": {
      "name": "python3",
      "display_name": "Python 3"
    },
    "accelerator": "GPU"
  },
  "cells": [
    {
      "cell_type": "code",
      "metadata": {
        "id": "zA-empIGf8gI"
      },
      "source": [
        "#Connect Google Drive\n",
        "from google.colab import drive\n",
        "drive.mount('/drive/')"
      ],
      "execution_count": null,
      "outputs": []
    },
    {
      "cell_type": "code",
      "metadata": {
        "id": "hws5VFBdgfDa"
      },
      "source": [
        "#Download Blender Zip File (Only need to do once)\n",
        "#!wget -c https://builder.blender.org/download/experimental/blender-3.0.0-alpha+cycles-x.2ee513621513-linux.x86_64-release.tar.xz"
      ],
      "execution_count": null,
      "outputs": []
    },
    {
      "cell_type": "code",
      "metadata": {
        "id": "2mnNTcglhfGC"
      },
      "source": [
        "#!ls"
      ],
      "execution_count": null,
      "outputs": []
    },
    {
      "cell_type": "code",
      "metadata": {
        "id": "S6hIVC8-hjLA"
      },
      "source": [
        "#Unzip Blender (Only need to do once)\n",
        "#!tar xf blender-3.0.0-alpha+cycles-x.2ee513621513-linux.x86_64-release.tar.xz"
      ],
      "execution_count": null,
      "outputs": []
    },
    {
      "cell_type": "code",
      "metadata": {
        "id": "ULzTmveuiOgC"
      },
      "source": [
        "#Set Paths to Blender Files\n",
        "filename = '/drive/MyDrive/CyclesXTest/classroom/classroom.blend'\n"
      ],
      "execution_count": null,
      "outputs": []
    },
    {
      "cell_type": "code",
      "metadata": {
        "id": "D2Fk_maRicQY"
      },
      "source": [
        "#Change exectutable access to blender on Google Drive\n",
        "!chmod +x /drive/MyDrive/Blender3/blender\n"
      ],
      "execution_count": null,
      "outputs": []
    },
    {
      "cell_type": "code",
      "metadata": {
        "id": "EDpuAutr6oJ2"
      },
      "source": [
        "#Run Blender\n",
        "###########\n",
        "#Render a Still Frame\n",
        "!sudo /drive/MyDrive/Blender3/blender -b $filename -noaudio -E 'CYCLES' -o '/drive/MyDrive/classroom' -f 1 -F 'PNG' -- --cycles-device OPTIX\n",
        "\n",
        "#Render an Animation\n",
        "###########\n",
        "#!sudo /drive/MyDrive/Blender3/blender -b $filename -noaudio -E 'CYCLES' -o '/drive/MyDrive/image_####' -s 1 -e 100 -a -- --cycles-device OPTIX"
      ],
      "execution_count": null,
      "outputs": []
    }
  ]
}